{
 "cells": [
  {
   "cell_type": "code",
   "execution_count": null,
   "id": "2bedefee-e43f-479a-bf2a-81cfe9e1495b",
   "metadata": {},
   "outputs": [],
   "source": [
    "import os\n",
    "import numpy as np\n",
    "import pandas as pd\n",
    "import matplotlib.pyplot as plt\n",
    "import datetime"
   ]
  },
  {
   "cell_type": "code",
   "execution_count": null,
   "id": "8079309f-4e6e-4ca0-ba1a-6e0042ecadd8",
   "metadata": {},
   "outputs": [],
   "source": [
    "modules= os.listdir(\"Modules\")"
   ]
  },
  {
   "cell_type": "code",
   "execution_count": null,
   "id": "7bfe8c98-4177-4b8e-9179-83096261456d",
   "metadata": {},
   "outputs": [],
   "source": [
    "top_modules=[mod for mod in modules if mod[:3]=='top']"
   ]
  },
  {
   "cell_type": "code",
   "execution_count": null,
   "id": "1b84ae06-d332-48cc-91f5-888b59e492e5",
   "metadata": {},
   "outputs": [],
   "source": [
    "top_modules"
   ]
  },
  {
   "cell_type": "code",
   "execution_count": null,
   "id": "37bdf247-2665-4fda-b063-8102ede4c5a1",
   "metadata": {},
   "outputs": [],
   "source": [
    "os.system(\"vivado -mode batch -source tcl_add.tcl\")"
   ]
  },
  {
   "cell_type": "code",
   "execution_count": null,
   "id": "626771d4-d872-4df5-a69c-2f10f1a88b5e",
   "metadata": {},
   "outputs": [],
   "source": [
    "for filename in top_modules:\n",
    "    os.mkdir(\"Impl/\"+filename[:-2])\n",
    "    os.system(\"vivado -mode batch -source tcl_run.tcl -tclargs {}\".format(filename))"
   ]
  },
  {
   "cell_type": "code",
   "execution_count": null,
   "id": "565d5873-eb90-45e4-be92-cc75721fff2f",
   "metadata": {},
   "outputs": [],
   "source": [
    "top_modules[0][:-2]"
   ]
  },
  {
   "cell_type": "code",
   "execution_count": null,
   "id": "94479197-fb8e-401b-9378-35c524d5a3d9",
   "metadata": {},
   "outputs": [],
   "source": [
    "with open(\"Impl/top_CLA16/power.txt\") as p:\n",
    "    lines=p.read()"
   ]
  },
  {
   "cell_type": "code",
   "execution_count": null,
   "id": "72a39ddf-5a05-466f-800a-80337797e3d5",
   "metadata": {},
   "outputs": [],
   "source": [
    "sp = lines.split(\"\\n\")"
   ]
  },
  {
   "cell_type": "code",
   "execution_count": null,
   "id": "5f9f8948-daec-41fa-8157-cf1c5da72357",
   "metadata": {},
   "outputs": [],
   "source": [
    "for l in sp:\n",
    "    if \"Total On-Chip Power\" in l:\n",
    "        ttp16=float(l.split()[-2])"
   ]
  },
  {
   "cell_type": "code",
   "execution_count": null,
   "id": "bcfe3465-bbe8-4e47-95f2-e796a3fafeff",
   "metadata": {},
   "outputs": [],
   "source": [
    "for n in sp:\n",
    "    if \"Dynamic (W)\" in n:\n",
    "        tdp16=float(n.split()[-2])"
   ]
  },
  {
   "cell_type": "code",
   "execution_count": null,
   "id": "8bb2039f-c486-4cba-847a-b1f005cdf3cc",
   "metadata": {},
   "outputs": [],
   "source": [
    "for m in sp:\n",
    "    if \"Device Static\" in m:\n",
    "        tsp16=float(m.split()[-2])"
   ]
  },
  {
   "cell_type": "code",
   "execution_count": null,
   "id": "0f31827d-7985-499a-9142-fb0c1f1443e0",
   "metadata": {},
   "outputs": [],
   "source": []
  },
  {
   "cell_type": "code",
   "execution_count": null,
   "id": "9fb34c3a-f53f-4518-bd3b-e0b3e0ca5d29",
   "metadata": {},
   "outputs": [],
   "source": [
    "with open(\"Impl/top_CLA16/timing.txt\") as f:\n",
    "    lines=f.read()"
   ]
  },
  {
   "cell_type": "code",
   "execution_count": null,
   "id": "4334c698-9a23-46ca-9875-aa65b3ea5cb3",
   "metadata": {},
   "outputs": [],
   "source": [
    "sp = lines.split(\"\\n\")"
   ]
  },
  {
   "cell_type": "code",
   "execution_count": null,
   "id": "0f7beb52-4d08-4f1a-a3e5-1a33c8fb6b87",
   "metadata": {},
   "outputs": [],
   "source": [
    "for l in sp:\n",
    "    if \"Data Path Delay\" in l:\n",
    "        dpd16=float(l.split()[3][:-2])\n",
    "        "
   ]
  },
  {
   "cell_type": "code",
   "execution_count": null,
   "id": "d9b62cde-5909-47bf-af1b-42b35c7b3702",
   "metadata": {},
   "outputs": [],
   "source": [
    " dpd16"
   ]
  },
  {
   "cell_type": "code",
   "execution_count": null,
   "id": "7f009756-e02e-4e0e-a8f7-0ffb4fccdd57",
   "metadata": {},
   "outputs": [],
   "source": []
  },
  {
   "cell_type": "code",
   "execution_count": null,
   "id": "9d244ea7-508a-44e2-aca8-51fa90e37ed8",
   "metadata": {},
   "outputs": [],
   "source": [
    "designs=os.listdir(\"Impl\")\n",
    "file=[\"power.txt\",\"timing.txt\",\"utilization.txt\"]\n",
    "\n",
    "\n",
    "\n",
    "\n",
    "\n",
    "\n",
    "\n",
    "for des in designs:\n",
    "    for fl in file:\n",
    "          with open(\"Impl/{}/{}\".format(des,fl)) as f:\n",
    "                lines = f.read()\n",
    "                if fl==\n",
    "    "
   ]
  },
  {
   "cell_type": "code",
   "execution_count": null,
   "id": "98e16c76-708a-41d7-9cf6-f5914b6fc820",
   "metadata": {},
   "outputs": [],
   "source": [
    "tdp16\n",
    "\n",
    "\n"
   ]
  },
  {
   "cell_type": "code",
   "execution_count": null,
   "id": "32934a90-7ae5-462f-bf9a-34743e6a8a54",
   "metadata": {},
   "outputs": [],
   "source": []
  },
  {
   "cell_type": "code",
   "execution_count": null,
   "id": "b922bf38-6f76-44b0-86c9-298c12ad48e8",
   "metadata": {},
   "outputs": [],
   "source": [
    "designs=os.listdir(\"Impl\")\n",
    "file=[\"power.txt\",\"timing.txt\",\"utilization.txt\"]"
   ]
  },
  {
   "cell_type": "code",
   "execution_count": null,
   "id": "30c5893a-df42-4739-bdfb-4a9d4fc289c2",
   "metadata": {},
   "outputs": [],
   "source": [
    "newdesigns=designs[1:]"
   ]
  },
  {
   "cell_type": "code",
   "execution_count": null,
   "id": "60083cc5-3106-459b-80d4-9b06c38c628a",
   "metadata": {},
   "outputs": [],
   "source": [
    "ttp16=[]\n",
    "tdp16=[]\n",
    "tsp16=[]\n",
    "\n",
    "for des in newdesigns:\n",
    "    for fl in file:\n",
    "        with open(\"Impl/{}/{}\".format(des,fl)) as f:\n",
    "            lines = f.read()\n",
    "                \n",
    "        sp = lines.split(\"\\n\")\n",
    "            \n",
    "        for l in sp:\n",
    "            if fl==\"power.txt\" in l:\n",
    "                if \"Total On-Chip Power\" in l:\n",
    "                    ttp16=float(l.split()[-2])\n",
    "                    ttp16.append(ttp16)\n",
    "                elif \"Dynamic (W)\" in l:\n",
    "                    tdp16=float(n.split()[-2])\n",
    "                    tdp16.append(tdp16)\n",
    "                elif \"Device Static\" in l:\n",
    "                    tsp16=float(m.split()[-2])\n",
    "                    tsp16.append(tsp16)\n",
    "            \n",
    "    "
   ]
  },
  {
   "cell_type": "code",
   "execution_count": 446,
   "id": "79aa1a4c-719f-4861-8ff6-b372306c339b",
   "metadata": {},
   "outputs": [],
   "source": [
    "import os\n",
    "import numpy as np\n",
    "import pandas as pd\n",
    "import matplotlib.pyplot as plt\n",
    "import datetime"
   ]
  },
  {
   "cell_type": "code",
   "execution_count": null,
   "id": "c5714e57-7364-4fa5-8ab8-3854abff2849",
   "metadata": {},
   "outputs": [],
   "source": [
    "modules= os.listdir(\"Modules\")\n",
    "top_modules=[mod for mod in modules if mod[:3]=='top']\n",
    "os.system(\"vivado -mode batch -source tcl_add.tcl\")\n"
   ]
  },
  {
   "cell_type": "code",
   "execution_count": null,
   "id": "d9964b62-c39c-4bbc-bf0f-d6c9fc02ccee",
   "metadata": {},
   "outputs": [],
   "source": [
    "for filename in top_modules:\n",
    "    os.mkdir(\"Impl/\"+filename[:-2])\n",
    "    os.system(\"vivado -mode batch -source tcl_run.tcl -tclargs {}\".format(filename))"
   ]
  },
  {
   "cell_type": "code",
   "execution_count": null,
   "id": "f5a467e5-2c83-406c-be62-c652701c6059",
   "metadata": {},
   "outputs": [],
   "source": []
  },
  {
   "cell_type": "markdown",
   "id": "f227f75f-913f-48e3-bd7e-98cd05f14c42",
   "metadata": {},
   "source": [
    "## mainprogram"
   ]
  },
  {
   "cell_type": "code",
   "execution_count": 358,
   "id": "31e4098f-9625-4e93-9e08-2c528dc83b89",
   "metadata": {},
   "outputs": [],
   "source": [
    "designs=os.listdir(\"Impl\")\n",
    "file=[\"power.txt\",\"timing.txt\",\"utilization.txt\"]"
   ]
  },
  {
   "cell_type": "code",
   "execution_count": null,
   "id": "09b7a516-8579-46d3-837f-8961b817f8b8",
   "metadata": {},
   "outputs": [],
   "source": []
  },
  {
   "cell_type": "code",
   "execution_count": null,
   "id": "47b51b60-e19f-4274-a2e4-164e72602798",
   "metadata": {},
   "outputs": [],
   "source": []
  },
  {
   "cell_type": "code",
   "execution_count": 359,
   "id": "9ef70c8d-613f-4b0b-9139-1beb1803f0d5",
   "metadata": {},
   "outputs": [],
   "source": [
    "newdesigns=designs[1:]"
   ]
  },
  {
   "cell_type": "code",
   "execution_count": 374,
   "id": "1a72bc32-c571-49bf-8967-475be6749cd3",
   "metadata": {},
   "outputs": [
    {
     "data": {
      "text/plain": [
       "['top_CLA8', 'top_CLA16', 'top_CLA32', 'top_CLA64']"
      ]
     },
     "execution_count": 374,
     "metadata": {},
     "output_type": "execute_result"
    }
   ],
   "source": [
    "newdesigns"
   ]
  },
  {
   "cell_type": "code",
   "execution_count": 417,
   "id": "1a70cacd-06f0-4f55-894f-b48320638b47",
   "metadata": {},
   "outputs": [],
   "source": [
    "slicelogic16=[]\n",
    "ttp16=[]\n",
    "tsp16=[]\n",
    "signal16=[]\n",
    "dpd16=[]\n",
    "slut16=[]\n",
    "slutasl16=[]\n",
    "slutasm16=[]\n",
    "muxes16=[]\n",
    "LUT2_16=[]\n",
    "LUT3_16=[]\n",
    "LUT4_16=[]\n",
    "LUT5_16=[]\n",
    "LUT6_16=[]\n",
    "LUT7_16=[]\n",
    "for des in newdesigns:\n",
    "    for fl in file:\n",
    "        with open(\"Impl/{}/{}\".format(des,fl)) as f:\n",
    "            lines = f.read()\n",
    "            \n",
    "        sp = lines.split(\"\\n\") \n",
    "        for l in sp:\n",
    "            if fl == \"power.txt\":\n",
    "                if \"Total On-Chip Power\" in l:\n",
    "                    ttp16.append((l.split()[6]))\n",
    "        \n",
    "                if \"Device Static\" in l:\n",
    "                    tsp16.append(float(l.split()[-2]))\n",
    "        \n",
    "                if \"Slice Logic\" in l:\n",
    "                    slicelogic16.append(float(l.split()[4]))\n",
    "         \n",
    "                if \"Signals\" in l:\n",
    "                    signal16.append(float(l.split()[3]))\n",
    "                    \n",
    "            if fl == \"timing.txt\":\n",
    "                 if \"Data Path Delay\" in l:\n",
    "                    dpd16.append(float(l.split()[3][:-2]))\n",
    "                    \n",
    "            if fl == \"utilization.txt\":  \n",
    "                if \"Slice LUTs\" in l:\n",
    "                    slut16.append(float(l.split()[-4]))\n",
    "                if \"| LUT as Logic\" in l:\n",
    "                    slutasl16.append(float(l.split()[-4]))\n",
    "                if \"| LUT as Memory\" in l:\n",
    "                    slutasm16.append(float(l.split()[-4]))\n",
    "                if \"F7 Muxes\" in l:\n",
    "                    muxes16.append(float(l.split()[-6]))\n",
    "                if \"LUT2\" in l:\n",
    "                    LUT2_16.append(float(l.split()[-4]))    \n",
    "                if \"LUT3\" in l:\n",
    "                    LUT3_16.append(float(l.split()[-4]))\n",
    "                if \"LUT4\" in l:\n",
    "                    LUT4_16.append(float(l.split()[-4]))\n",
    "                if \"LUT5\" in l:\n",
    "                    LUT5_16.append(float(l.split()[-4]))    \n",
    "                if \"LUT6\" in l:\n",
    "                    LUT6_16.append(float(l.split()[-4]))\n",
    "                if \"LUT7\" in l:\n",
    "                    LUT7_16.append(float(l.split()[-4]))\n",
    "                "
   ]
  },
  {
   "cell_type": "code",
   "execution_count": null,
   "id": "0488f1c6-3fdc-4fa9-af1c-368a07caa62a",
   "metadata": {},
   "outputs": [],
   "source": [
    " \n",
    "    \n",
    "    "
   ]
  },
  {
   "cell_type": "code",
   "execution_count": null,
   "id": "a1bc9259-61bd-4bd2-8be4-2142fdbbdf27",
   "metadata": {},
   "outputs": [],
   "source": []
  },
  {
   "cell_type": "code",
   "execution_count": 472,
   "id": "9aa04f92-acbc-41e4-9452-a9b7163e5f64",
   "metadata": {},
   "outputs": [],
   "source": [
    "DC=[0,0,0,0]"
   ]
  },
  {
   "cell_type": "code",
   "execution_count": 490,
   "id": "1f832360-d615-47c5-bcf4-a011629d56f9",
   "metadata": {},
   "outputs": [],
   "source": [
    "results=[ttp16,tsp16,signal16,DC,slicelogic16,dpd16,slut16,slutasl16,slutasm16,muxes16,LUT2_16,LUT3_16,LUT4_16,LUT5_16,LUT6_16,LUT7_16]"
   ]
  },
  {
   "cell_type": "code",
   "execution_count": 491,
   "id": "958b0bb2-08f1-4953-99d3-9920150b0fef",
   "metadata": {},
   "outputs": [
    {
     "data": {
      "text/plain": [
       "[['5.002', '11.141', '23.219', '49.252'],\n",
       " [0.191, 0.256, 0.514, 2.405],\n",
       " [0.17, 0.496, 1.724, 4.872],\n",
       " [0, 0, 0, 0],\n",
       " [0.066, 0.192, 0.507, 1.148],\n",
       " [6.927, 8.335, 11.285, 16.02],\n",
       " [203800.0, 203800.0, 203800.0, 203800.0],\n",
       " [203800.0, 203800.0, 203800.0, 203800.0],\n",
       " [64000.0, 64000.0, 64000.0, 64000.0],\n",
       " [0.0, 0.0, 0.0, 0.0],\n",
       " [1.0, 6.0, 26.0, 48.0],\n",
       " [2.0, 4.0, 9.0, 14.0],\n",
       " [3.0, 8.0, 14.0, 25.0],\n",
       " [3.0, 5.0, 15.0, 44.0],\n",
       " [6.0, 22.0, 59.0, 155.0],\n",
       " []]"
      ]
     },
     "execution_count": 491,
     "metadata": {},
     "output_type": "execute_result"
    }
   ],
   "source": [
    "results\n"
   ]
  },
  {
   "cell_type": "code",
   "execution_count": 501,
   "id": "c5c21187-15f2-4b93-8b9e-0ddabe77f0c6",
   "metadata": {},
   "outputs": [],
   "source": [
    "df = pd.DataFrame(results)\n",
    "df=df.fillna(0)"
   ]
  },
  {
   "cell_type": "code",
   "execution_count": 502,
   "id": "6f5c15de-ebe2-4f6d-9cd8-cfe700d1b4b0",
   "metadata": {},
   "outputs": [
    {
     "data": {
      "text/html": [
       "<div>\n",
       "<style scoped>\n",
       "    .dataframe tbody tr th:only-of-type {\n",
       "        vertical-align: middle;\n",
       "    }\n",
       "\n",
       "    .dataframe tbody tr th {\n",
       "        vertical-align: top;\n",
       "    }\n",
       "\n",
       "    .dataframe thead th {\n",
       "        text-align: right;\n",
       "    }\n",
       "</style>\n",
       "<table border=\"1\" class=\"dataframe\">\n",
       "  <thead>\n",
       "    <tr style=\"text-align: right;\">\n",
       "      <th></th>\n",
       "      <th>0</th>\n",
       "      <th>1</th>\n",
       "      <th>2</th>\n",
       "      <th>3</th>\n",
       "    </tr>\n",
       "  </thead>\n",
       "  <tbody>\n",
       "    <tr>\n",
       "      <th>0</th>\n",
       "      <td>5.002</td>\n",
       "      <td>11.141</td>\n",
       "      <td>23.219</td>\n",
       "      <td>49.252</td>\n",
       "    </tr>\n",
       "    <tr>\n",
       "      <th>1</th>\n",
       "      <td>0.191</td>\n",
       "      <td>0.256</td>\n",
       "      <td>0.514</td>\n",
       "      <td>2.405</td>\n",
       "    </tr>\n",
       "    <tr>\n",
       "      <th>2</th>\n",
       "      <td>0.17</td>\n",
       "      <td>0.496</td>\n",
       "      <td>1.724</td>\n",
       "      <td>4.872</td>\n",
       "    </tr>\n",
       "    <tr>\n",
       "      <th>3</th>\n",
       "      <td>0</td>\n",
       "      <td>0</td>\n",
       "      <td>0</td>\n",
       "      <td>0</td>\n",
       "    </tr>\n",
       "    <tr>\n",
       "      <th>4</th>\n",
       "      <td>0.066</td>\n",
       "      <td>0.192</td>\n",
       "      <td>0.507</td>\n",
       "      <td>1.148</td>\n",
       "    </tr>\n",
       "    <tr>\n",
       "      <th>5</th>\n",
       "      <td>6.927</td>\n",
       "      <td>8.335</td>\n",
       "      <td>11.285</td>\n",
       "      <td>16.02</td>\n",
       "    </tr>\n",
       "    <tr>\n",
       "      <th>6</th>\n",
       "      <td>203800</td>\n",
       "      <td>203800</td>\n",
       "      <td>203800</td>\n",
       "      <td>203800</td>\n",
       "    </tr>\n",
       "    <tr>\n",
       "      <th>7</th>\n",
       "      <td>203800</td>\n",
       "      <td>203800</td>\n",
       "      <td>203800</td>\n",
       "      <td>203800</td>\n",
       "    </tr>\n",
       "    <tr>\n",
       "      <th>8</th>\n",
       "      <td>64000</td>\n",
       "      <td>64000</td>\n",
       "      <td>64000</td>\n",
       "      <td>64000</td>\n",
       "    </tr>\n",
       "    <tr>\n",
       "      <th>9</th>\n",
       "      <td>0</td>\n",
       "      <td>0</td>\n",
       "      <td>0</td>\n",
       "      <td>0</td>\n",
       "    </tr>\n",
       "    <tr>\n",
       "      <th>10</th>\n",
       "      <td>1</td>\n",
       "      <td>6</td>\n",
       "      <td>26</td>\n",
       "      <td>48</td>\n",
       "    </tr>\n",
       "    <tr>\n",
       "      <th>11</th>\n",
       "      <td>2</td>\n",
       "      <td>4</td>\n",
       "      <td>9</td>\n",
       "      <td>14</td>\n",
       "    </tr>\n",
       "    <tr>\n",
       "      <th>12</th>\n",
       "      <td>3</td>\n",
       "      <td>8</td>\n",
       "      <td>14</td>\n",
       "      <td>25</td>\n",
       "    </tr>\n",
       "    <tr>\n",
       "      <th>13</th>\n",
       "      <td>3</td>\n",
       "      <td>5</td>\n",
       "      <td>15</td>\n",
       "      <td>44</td>\n",
       "    </tr>\n",
       "    <tr>\n",
       "      <th>14</th>\n",
       "      <td>6</td>\n",
       "      <td>22</td>\n",
       "      <td>59</td>\n",
       "      <td>155</td>\n",
       "    </tr>\n",
       "    <tr>\n",
       "      <th>15</th>\n",
       "      <td>0</td>\n",
       "      <td>0</td>\n",
       "      <td>0</td>\n",
       "      <td>0</td>\n",
       "    </tr>\n",
       "  </tbody>\n",
       "</table>\n",
       "</div>"
      ],
      "text/plain": [
       "         0       1       2       3\n",
       "0    5.002  11.141  23.219  49.252\n",
       "1    0.191   0.256   0.514   2.405\n",
       "2     0.17   0.496   1.724   4.872\n",
       "3        0       0       0       0\n",
       "4    0.066   0.192   0.507   1.148\n",
       "5    6.927   8.335  11.285   16.02\n",
       "6   203800  203800  203800  203800\n",
       "7   203800  203800  203800  203800\n",
       "8    64000   64000   64000   64000\n",
       "9        0       0       0       0\n",
       "10       1       6      26      48\n",
       "11       2       4       9      14\n",
       "12       3       8      14      25\n",
       "13       3       5      15      44\n",
       "14       6      22      59     155\n",
       "15       0       0       0       0"
      ]
     },
     "execution_count": 502,
     "metadata": {},
     "output_type": "execute_result"
    }
   ],
   "source": [
    "df\n"
   ]
  },
  {
   "cell_type": "code",
   "execution_count": null,
   "id": "d5cc64ff-aaa3-455f-9146-6c80e08dc9d9",
   "metadata": {},
   "outputs": [],
   "source": []
  },
  {
   "cell_type": "code",
   "execution_count": null,
   "id": "497fdba4-d23e-46a4-914c-be070f8883c3",
   "metadata": {},
   "outputs": [],
   "source": []
  },
  {
   "cell_type": "code",
   "execution_count": null,
   "id": "fb979663-d25e-471a-9d37-cfbc5c5a0159",
   "metadata": {},
   "outputs": [],
   "source": []
  },
  {
   "cell_type": "code",
   "execution_count": 524,
   "id": "0e8a5d8d-6c15-4ba6-8ba2-65b7814cb192",
   "metadata": {},
   "outputs": [],
   "source": [
    "df.columns = newdesigns\n",
    "df.index = ['Total Power(w)', 'static power(w)', 'signal power(w)','DC POWER(w)','logic power(W)', 'Date Propogation Delay', 'Slice LUT', 'LUT as Logic','LUT as MEMORY', 'F7_Muxes', 'LUT2', 'LUT3','LUT4', 'LUT5', 'LUT6', 'LUT7']"
   ]
  },
  {
   "cell_type": "code",
   "execution_count": null,
   "id": "0236456b-8335-40bc-b2ef-6afa6580a426",
   "metadata": {},
   "outputs": [],
   "source": []
  },
  {
   "cell_type": "code",
   "execution_count": null,
   "id": "5ac73af2-1678-460b-a653-dfcd9a143e2d",
   "metadata": {},
   "outputs": [],
   "source": []
  },
  {
   "cell_type": "code",
   "execution_count": 525,
   "id": "ef5d14dc-c9dd-44e1-8c5a-8857e9304d6e",
   "metadata": {},
   "outputs": [
    {
     "data": {
      "text/html": [
       "<div>\n",
       "<style scoped>\n",
       "    .dataframe tbody tr th:only-of-type {\n",
       "        vertical-align: middle;\n",
       "    }\n",
       "\n",
       "    .dataframe tbody tr th {\n",
       "        vertical-align: top;\n",
       "    }\n",
       "\n",
       "    .dataframe thead th {\n",
       "        text-align: right;\n",
       "    }\n",
       "</style>\n",
       "<table border=\"1\" class=\"dataframe\">\n",
       "  <thead>\n",
       "    <tr style=\"text-align: right;\">\n",
       "      <th></th>\n",
       "      <th>top_CLA8</th>\n",
       "      <th>top_CLA16</th>\n",
       "      <th>top_CLA32</th>\n",
       "      <th>top_CLA64</th>\n",
       "    </tr>\n",
       "  </thead>\n",
       "  <tbody>\n",
       "    <tr>\n",
       "      <th>Total Power(w)</th>\n",
       "      <td>5.002</td>\n",
       "      <td>11.141</td>\n",
       "      <td>23.219</td>\n",
       "      <td>49.252</td>\n",
       "    </tr>\n",
       "    <tr>\n",
       "      <th>static power(w)</th>\n",
       "      <td>0.191</td>\n",
       "      <td>0.256</td>\n",
       "      <td>0.514</td>\n",
       "      <td>2.405</td>\n",
       "    </tr>\n",
       "    <tr>\n",
       "      <th>signal power(w)</th>\n",
       "      <td>0.17</td>\n",
       "      <td>0.496</td>\n",
       "      <td>1.724</td>\n",
       "      <td>4.872</td>\n",
       "    </tr>\n",
       "    <tr>\n",
       "      <th>DC POWER(w)</th>\n",
       "      <td>4.811</td>\n",
       "      <td>10.885</td>\n",
       "      <td>22.705</td>\n",
       "      <td>46.847</td>\n",
       "    </tr>\n",
       "    <tr>\n",
       "      <th>logic power(W)</th>\n",
       "      <td>0.066</td>\n",
       "      <td>0.192</td>\n",
       "      <td>0.507</td>\n",
       "      <td>1.148</td>\n",
       "    </tr>\n",
       "    <tr>\n",
       "      <th>Date Propogation Delay</th>\n",
       "      <td>6.927</td>\n",
       "      <td>8.335</td>\n",
       "      <td>11.285</td>\n",
       "      <td>16.02</td>\n",
       "    </tr>\n",
       "    <tr>\n",
       "      <th>Slice LUT</th>\n",
       "      <td>203800</td>\n",
       "      <td>203800</td>\n",
       "      <td>203800</td>\n",
       "      <td>203800</td>\n",
       "    </tr>\n",
       "    <tr>\n",
       "      <th>LUT as Logic</th>\n",
       "      <td>203800</td>\n",
       "      <td>203800</td>\n",
       "      <td>203800</td>\n",
       "      <td>203800</td>\n",
       "    </tr>\n",
       "    <tr>\n",
       "      <th>LUT as MEMORY</th>\n",
       "      <td>64000</td>\n",
       "      <td>64000</td>\n",
       "      <td>64000</td>\n",
       "      <td>64000</td>\n",
       "    </tr>\n",
       "    <tr>\n",
       "      <th>F7_Muxes</th>\n",
       "      <td>0</td>\n",
       "      <td>0</td>\n",
       "      <td>0</td>\n",
       "      <td>0</td>\n",
       "    </tr>\n",
       "    <tr>\n",
       "      <th>LUT2</th>\n",
       "      <td>1</td>\n",
       "      <td>6</td>\n",
       "      <td>26</td>\n",
       "      <td>48</td>\n",
       "    </tr>\n",
       "    <tr>\n",
       "      <th>LUT3</th>\n",
       "      <td>2</td>\n",
       "      <td>4</td>\n",
       "      <td>9</td>\n",
       "      <td>14</td>\n",
       "    </tr>\n",
       "    <tr>\n",
       "      <th>LUT4</th>\n",
       "      <td>3</td>\n",
       "      <td>8</td>\n",
       "      <td>14</td>\n",
       "      <td>25</td>\n",
       "    </tr>\n",
       "    <tr>\n",
       "      <th>LUT5</th>\n",
       "      <td>3</td>\n",
       "      <td>5</td>\n",
       "      <td>15</td>\n",
       "      <td>44</td>\n",
       "    </tr>\n",
       "    <tr>\n",
       "      <th>LUT6</th>\n",
       "      <td>6</td>\n",
       "      <td>22</td>\n",
       "      <td>59</td>\n",
       "      <td>155</td>\n",
       "    </tr>\n",
       "    <tr>\n",
       "      <th>LUT7</th>\n",
       "      <td>0</td>\n",
       "      <td>0</td>\n",
       "      <td>0</td>\n",
       "      <td>0</td>\n",
       "    </tr>\n",
       "  </tbody>\n",
       "</table>\n",
       "</div>"
      ],
      "text/plain": [
       "                       top_CLA8 top_CLA16 top_CLA32 top_CLA64\n",
       "Total Power(w)            5.002    11.141    23.219    49.252\n",
       "static power(w)           0.191     0.256     0.514     2.405\n",
       "signal power(w)            0.17     0.496     1.724     4.872\n",
       "DC POWER(w)               4.811    10.885    22.705    46.847\n",
       "logic power(W)            0.066     0.192     0.507     1.148\n",
       "Date Propogation Delay    6.927     8.335    11.285     16.02\n",
       "Slice LUT                203800    203800    203800    203800\n",
       "LUT as Logic             203800    203800    203800    203800\n",
       "LUT as MEMORY             64000     64000     64000     64000\n",
       "F7_Muxes                      0         0         0         0\n",
       "LUT2                          1         6        26        48\n",
       "LUT3                          2         4         9        14\n",
       "LUT4                          3         8        14        25\n",
       "LUT5                          3         5        15        44\n",
       "LUT6                          6        22        59       155\n",
       "LUT7                          0         0         0         0"
      ]
     },
     "execution_count": 525,
     "metadata": {},
     "output_type": "execute_result"
    }
   ],
   "source": [
    "df"
   ]
  },
  {
   "cell_type": "code",
   "execution_count": 526,
   "id": "8a77a5ca-ee30-4fa6-952a-ac09eafc5ca6",
   "metadata": {},
   "outputs": [
    {
     "data": {
      "text/html": [
       "<div>\n",
       "<style scoped>\n",
       "    .dataframe tbody tr th:only-of-type {\n",
       "        vertical-align: middle;\n",
       "    }\n",
       "\n",
       "    .dataframe tbody tr th {\n",
       "        vertical-align: top;\n",
       "    }\n",
       "\n",
       "    .dataframe thead th {\n",
       "        text-align: right;\n",
       "    }\n",
       "</style>\n",
       "<table border=\"1\" class=\"dataframe\">\n",
       "  <thead>\n",
       "    <tr style=\"text-align: right;\">\n",
       "      <th></th>\n",
       "      <th>top_CLA8</th>\n",
       "      <th>top_CLA16</th>\n",
       "      <th>top_CLA32</th>\n",
       "      <th>top_CLA64</th>\n",
       "    </tr>\n",
       "  </thead>\n",
       "  <tbody>\n",
       "    <tr>\n",
       "      <th>Total Power(w)</th>\n",
       "      <td>5.002</td>\n",
       "      <td>11.141</td>\n",
       "      <td>23.219</td>\n",
       "      <td>49.252</td>\n",
       "    </tr>\n",
       "    <tr>\n",
       "      <th>static power(w)</th>\n",
       "      <td>0.191</td>\n",
       "      <td>0.256</td>\n",
       "      <td>0.514</td>\n",
       "      <td>2.405</td>\n",
       "    </tr>\n",
       "    <tr>\n",
       "      <th>signal power(w)</th>\n",
       "      <td>0.17</td>\n",
       "      <td>0.496</td>\n",
       "      <td>1.724</td>\n",
       "      <td>4.872</td>\n",
       "    </tr>\n",
       "    <tr>\n",
       "      <th>DC POWER(w)</th>\n",
       "      <td>4.811</td>\n",
       "      <td>10.885</td>\n",
       "      <td>22.705</td>\n",
       "      <td>46.847</td>\n",
       "    </tr>\n",
       "    <tr>\n",
       "      <th>logic power(W)</th>\n",
       "      <td>0.066</td>\n",
       "      <td>0.192</td>\n",
       "      <td>0.507</td>\n",
       "      <td>1.148</td>\n",
       "    </tr>\n",
       "    <tr>\n",
       "      <th>Date Propogation Delay</th>\n",
       "      <td>6.927</td>\n",
       "      <td>8.335</td>\n",
       "      <td>11.285</td>\n",
       "      <td>16.02</td>\n",
       "    </tr>\n",
       "    <tr>\n",
       "      <th>Slice LUT</th>\n",
       "      <td>203800</td>\n",
       "      <td>203800</td>\n",
       "      <td>203800</td>\n",
       "      <td>203800</td>\n",
       "    </tr>\n",
       "    <tr>\n",
       "      <th>LUT as Logic</th>\n",
       "      <td>203800</td>\n",
       "      <td>203800</td>\n",
       "      <td>203800</td>\n",
       "      <td>203800</td>\n",
       "    </tr>\n",
       "    <tr>\n",
       "      <th>LUT as MEMORY</th>\n",
       "      <td>64000</td>\n",
       "      <td>64000</td>\n",
       "      <td>64000</td>\n",
       "      <td>64000</td>\n",
       "    </tr>\n",
       "    <tr>\n",
       "      <th>F7_Muxes</th>\n",
       "      <td>0</td>\n",
       "      <td>0</td>\n",
       "      <td>0</td>\n",
       "      <td>0</td>\n",
       "    </tr>\n",
       "    <tr>\n",
       "      <th>LUT2</th>\n",
       "      <td>1</td>\n",
       "      <td>6</td>\n",
       "      <td>26</td>\n",
       "      <td>48</td>\n",
       "    </tr>\n",
       "    <tr>\n",
       "      <th>LUT3</th>\n",
       "      <td>2</td>\n",
       "      <td>4</td>\n",
       "      <td>9</td>\n",
       "      <td>14</td>\n",
       "    </tr>\n",
       "    <tr>\n",
       "      <th>LUT4</th>\n",
       "      <td>3</td>\n",
       "      <td>8</td>\n",
       "      <td>14</td>\n",
       "      <td>25</td>\n",
       "    </tr>\n",
       "    <tr>\n",
       "      <th>LUT5</th>\n",
       "      <td>3</td>\n",
       "      <td>5</td>\n",
       "      <td>15</td>\n",
       "      <td>44</td>\n",
       "    </tr>\n",
       "    <tr>\n",
       "      <th>LUT6</th>\n",
       "      <td>6</td>\n",
       "      <td>22</td>\n",
       "      <td>59</td>\n",
       "      <td>155</td>\n",
       "    </tr>\n",
       "    <tr>\n",
       "      <th>LUT7</th>\n",
       "      <td>0</td>\n",
       "      <td>0</td>\n",
       "      <td>0</td>\n",
       "      <td>0</td>\n",
       "    </tr>\n",
       "    <tr>\n",
       "      <th>DC POWER</th>\n",
       "      <td>4.811</td>\n",
       "      <td>10.885</td>\n",
       "      <td>22.705</td>\n",
       "      <td>46.847</td>\n",
       "    </tr>\n",
       "  </tbody>\n",
       "</table>\n",
       "</div>"
      ],
      "text/plain": [
       "                       top_CLA8 top_CLA16 top_CLA32 top_CLA64\n",
       "Total Power(w)            5.002    11.141    23.219    49.252\n",
       "static power(w)           0.191     0.256     0.514     2.405\n",
       "signal power(w)            0.17     0.496     1.724     4.872\n",
       "DC POWER(w)               4.811    10.885    22.705    46.847\n",
       "logic power(W)            0.066     0.192     0.507     1.148\n",
       "Date Propogation Delay    6.927     8.335    11.285     16.02\n",
       "Slice LUT                203800    203800    203800    203800\n",
       "LUT as Logic             203800    203800    203800    203800\n",
       "LUT as MEMORY             64000     64000     64000     64000\n",
       "F7_Muxes                      0         0         0         0\n",
       "LUT2                          1         6        26        48\n",
       "LUT3                          2         4         9        14\n",
       "LUT4                          3         8        14        25\n",
       "LUT5                          3         5        15        44\n",
       "LUT6                          6        22        59       155\n",
       "LUT7                          0         0         0         0\n",
       "DC POWER                  4.811    10.885    22.705    46.847"
      ]
     },
     "execution_count": 526,
     "metadata": {},
     "output_type": "execute_result"
    }
   ],
   "source": [
    "# df.loc['DC POWER'] = float(np.array(df.loc['Total Power']))- np.array(df.loc['static power'])\n",
    "a1 = np.array(df.loc['Total Power(w)'], dtype=float)- np.array(df.loc['static power(w)'], dtype=float)\n",
    "df.loc['DC POWER']=a1\n",
    "df"
   ]
  },
  {
   "cell_type": "code",
   "execution_count": 539,
   "id": "709e8137-c691-452e-996b-7748425e0c45",
   "metadata": {},
   "outputs": [],
   "source": [
    "df1=df.transpose()"
   ]
  },
  {
   "cell_type": "code",
   "execution_count": 543,
   "id": "24e31dc0-de77-48f8-a3be-ce90d90038e9",
   "metadata": {},
   "outputs": [
    {
     "data": {
      "text/html": [
       "<div>\n",
       "<style scoped>\n",
       "    .dataframe tbody tr th:only-of-type {\n",
       "        vertical-align: middle;\n",
       "    }\n",
       "\n",
       "    .dataframe tbody tr th {\n",
       "        vertical-align: top;\n",
       "    }\n",
       "\n",
       "    .dataframe thead th {\n",
       "        text-align: right;\n",
       "    }\n",
       "</style>\n",
       "<table border=\"1\" class=\"dataframe\">\n",
       "  <thead>\n",
       "    <tr style=\"text-align: right;\">\n",
       "      <th></th>\n",
       "      <th>Total Power(w)</th>\n",
       "      <th>static power(w)</th>\n",
       "      <th>signal power(w)</th>\n",
       "      <th>DC POWER(w)</th>\n",
       "      <th>logic power(W)</th>\n",
       "      <th>Date Propogation Delay</th>\n",
       "      <th>Slice LUT</th>\n",
       "      <th>LUT as Logic</th>\n",
       "      <th>LUT as MEMORY</th>\n",
       "      <th>F7_Muxes</th>\n",
       "      <th>LUT2</th>\n",
       "      <th>LUT3</th>\n",
       "      <th>LUT4</th>\n",
       "      <th>LUT5</th>\n",
       "      <th>LUT6</th>\n",
       "      <th>LUT7</th>\n",
       "      <th>DC POWER</th>\n",
       "    </tr>\n",
       "  </thead>\n",
       "  <tbody>\n",
       "    <tr>\n",
       "      <th>top_CLA8</th>\n",
       "      <td>5.002</td>\n",
       "      <td>0.191</td>\n",
       "      <td>0.17</td>\n",
       "      <td>4.811</td>\n",
       "      <td>0.066</td>\n",
       "      <td>6.927</td>\n",
       "      <td>203800</td>\n",
       "      <td>203800</td>\n",
       "      <td>64000</td>\n",
       "      <td>0</td>\n",
       "      <td>1</td>\n",
       "      <td>2</td>\n",
       "      <td>3</td>\n",
       "      <td>3</td>\n",
       "      <td>6</td>\n",
       "      <td>0</td>\n",
       "      <td>4.811</td>\n",
       "    </tr>\n",
       "    <tr>\n",
       "      <th>top_CLA16</th>\n",
       "      <td>11.141</td>\n",
       "      <td>0.256</td>\n",
       "      <td>0.496</td>\n",
       "      <td>10.885</td>\n",
       "      <td>0.192</td>\n",
       "      <td>8.335</td>\n",
       "      <td>203800</td>\n",
       "      <td>203800</td>\n",
       "      <td>64000</td>\n",
       "      <td>0</td>\n",
       "      <td>6</td>\n",
       "      <td>4</td>\n",
       "      <td>8</td>\n",
       "      <td>5</td>\n",
       "      <td>22</td>\n",
       "      <td>0</td>\n",
       "      <td>10.885</td>\n",
       "    </tr>\n",
       "    <tr>\n",
       "      <th>top_CLA32</th>\n",
       "      <td>23.219</td>\n",
       "      <td>0.514</td>\n",
       "      <td>1.724</td>\n",
       "      <td>22.705</td>\n",
       "      <td>0.507</td>\n",
       "      <td>11.285</td>\n",
       "      <td>203800</td>\n",
       "      <td>203800</td>\n",
       "      <td>64000</td>\n",
       "      <td>0</td>\n",
       "      <td>26</td>\n",
       "      <td>9</td>\n",
       "      <td>14</td>\n",
       "      <td>15</td>\n",
       "      <td>59</td>\n",
       "      <td>0</td>\n",
       "      <td>22.705</td>\n",
       "    </tr>\n",
       "    <tr>\n",
       "      <th>top_CLA64</th>\n",
       "      <td>49.252</td>\n",
       "      <td>2.405</td>\n",
       "      <td>4.872</td>\n",
       "      <td>46.847</td>\n",
       "      <td>1.148</td>\n",
       "      <td>16.02</td>\n",
       "      <td>203800</td>\n",
       "      <td>203800</td>\n",
       "      <td>64000</td>\n",
       "      <td>0</td>\n",
       "      <td>48</td>\n",
       "      <td>14</td>\n",
       "      <td>25</td>\n",
       "      <td>44</td>\n",
       "      <td>155</td>\n",
       "      <td>0</td>\n",
       "      <td>46.847</td>\n",
       "    </tr>\n",
       "  </tbody>\n",
       "</table>\n",
       "</div>"
      ],
      "text/plain": [
       "          Total Power(w) static power(w) signal power(w) DC POWER(w)  \\\n",
       "top_CLA8           5.002           0.191            0.17       4.811   \n",
       "top_CLA16         11.141           0.256           0.496      10.885   \n",
       "top_CLA32         23.219           0.514           1.724      22.705   \n",
       "top_CLA64         49.252           2.405           4.872      46.847   \n",
       "\n",
       "          logic power(W) Date Propogation Delay Slice LUT LUT as Logic  \\\n",
       "top_CLA8           0.066                  6.927    203800       203800   \n",
       "top_CLA16          0.192                  8.335    203800       203800   \n",
       "top_CLA32          0.507                 11.285    203800       203800   \n",
       "top_CLA64          1.148                  16.02    203800       203800   \n",
       "\n",
       "          LUT as MEMORY F7_Muxes LUT2 LUT3 LUT4 LUT5 LUT6 LUT7 DC POWER  \n",
       "top_CLA8          64000        0    1    2    3    3    6    0    4.811  \n",
       "top_CLA16         64000        0    6    4    8    5   22    0   10.885  \n",
       "top_CLA32         64000        0   26    9   14   15   59    0   22.705  \n",
       "top_CLA64         64000        0   48   14   25   44  155    0   46.847  "
      ]
     },
     "execution_count": 543,
     "metadata": {},
     "output_type": "execute_result"
    }
   ],
   "source": [
    "df1"
   ]
  },
  {
   "cell_type": "code",
   "execution_count": 544,
   "id": "a3577d14-05e1-46bf-aa62-61f051905db9",
   "metadata": {},
   "outputs": [],
   "source": [
    "#df.insert(loc=0, column='Metric', value=col)\n",
    "df1.to_csv(\"Result/Result.csv\")"
   ]
  },
  {
   "cell_type": "code",
   "execution_count": null,
   "id": "27a35fcd-f265-4475-a302-8dc3a30864d6",
   "metadata": {},
   "outputs": [],
   "source": []
  },
  {
   "cell_type": "code",
   "execution_count": null,
   "id": "b364d020-97db-411a-a351-de6002e643b5",
   "metadata": {},
   "outputs": [],
   "source": []
  },
  {
   "cell_type": "code",
   "execution_count": null,
   "id": "f5092d4f-844d-4dfa-b3e1-0ae1e7ac471b",
   "metadata": {},
   "outputs": [],
   "source": []
  },
  {
   "cell_type": "code",
   "execution_count": null,
   "id": "e4aee165-b971-4700-8253-2d95652c90c5",
   "metadata": {},
   "outputs": [],
   "source": []
  },
  {
   "cell_type": "code",
   "execution_count": null,
   "id": "e3e1f3d5-9578-4d31-a54b-97b084c8fb05",
   "metadata": {},
   "outputs": [],
   "source": []
  },
  {
   "cell_type": "code",
   "execution_count": null,
   "id": "c78ef851-831d-47ba-bf56-384814ba97c5",
   "metadata": {},
   "outputs": [],
   "source": []
  },
  {
   "cell_type": "code",
   "execution_count": null,
   "id": "effc7cfc-3c72-4cf7-b4a3-595b55e6509b",
   "metadata": {},
   "outputs": [],
   "source": []
  },
  {
   "cell_type": "code",
   "execution_count": null,
   "id": "ae73e183-8b84-4140-9cd7-ba7566f4df5f",
   "metadata": {},
   "outputs": [],
   "source": []
  },
  {
   "cell_type": "code",
   "execution_count": null,
   "id": "2a3a8d94-4db0-4b7c-bdb3-18b574948572",
   "metadata": {},
   "outputs": [],
   "source": []
  },
  {
   "cell_type": "code",
   "execution_count": null,
   "id": "41eba428-6704-4ca6-a1ac-16977ea0f8f9",
   "metadata": {},
   "outputs": [],
   "source": []
  },
  {
   "cell_type": "code",
   "execution_count": null,
   "id": "1e602c2e-c614-4bb5-b747-ef70d8280f95",
   "metadata": {},
   "outputs": [],
   "source": []
  },
  {
   "cell_type": "code",
   "execution_count": null,
   "id": "1d77d8d8-8418-4b8d-9eb9-3fec6d549fd9",
   "metadata": {},
   "outputs": [],
   "source": []
  },
  {
   "cell_type": "code",
   "execution_count": null,
   "id": "8c13fcdd-1920-4045-bed3-a5cb808f7172",
   "metadata": {},
   "outputs": [],
   "source": []
  },
  {
   "cell_type": "code",
   "execution_count": null,
   "id": "89666613-2580-4de9-891e-f6f013ebd79e",
   "metadata": {},
   "outputs": [],
   "source": []
  },
  {
   "cell_type": "code",
   "execution_count": null,
   "id": "0257d4e7-32a9-4378-8dee-7b2678e83594",
   "metadata": {},
   "outputs": [],
   "source": []
  },
  {
   "cell_type": "code",
   "execution_count": 398,
   "id": "fd602f68-5cd3-4fa4-a36a-e8a4d9de418d",
   "metadata": {},
   "outputs": [],
   "source": [
    "slicelogic16=[]\n",
    "ttp16=[]\n",
    "tsp16=[]\n",
    "signal16=[]\n",
    "with open(\"Impl/top_CLA16/power.txt\") as f:\n",
    "    lines=f.read()   \n",
    "sp = lines.split(\"\\n\")\n",
    "for l in sp:\n",
    "    if \"Total On-Chip Power\" in l:\n",
    "        ttp16.append(float(l.split()[6]))\n",
    "        \n",
    "    if \"Device Static\" in l:\n",
    "        tsp16.append(float(l.split()[-2]))\n",
    "        \n",
    "    if \"Slice Logic\" in l:\n",
    "        slicelogic16.append(float(l.split()[4]))\n",
    "         \n",
    "    if \"Signals\" in l:\n",
    "        signal16.append(float(l.split()[3]))\n",
    "    \n",
    "    "
   ]
  },
  {
   "cell_type": "code",
   "execution_count": 400,
   "id": "21fb7f64-f62a-48fa-a3a1-2e7880eaecf0",
   "metadata": {},
   "outputs": [
    {
     "data": {
      "text/plain": [
       "[11.141]"
      ]
     },
     "execution_count": 400,
     "metadata": {},
     "output_type": "execute_result"
    }
   ],
   "source": [
    "ttp16\n"
   ]
  },
  {
   "cell_type": "code",
   "execution_count": 315,
   "id": "dca233df-cb7b-4876-9873-97b8f94e21d0",
   "metadata": {},
   "outputs": [],
   "source": [
    "dpd16=[]\n",
    "with open(\"Impl/top_CLA16/timing.txt\") as f:\n",
    "    lines=f.read()   \n",
    "sp = lines.split(\"\\n\")    \n",
    "for l in sp:\n",
    "    if \"Data Path Delay\" in l:\n",
    "        dpd16.append(float(l.split()[3][:-2]))"
   ]
  },
  {
   "cell_type": "code",
   "execution_count": 350,
   "id": "b6e583b8-d053-4175-9faf-b19cb8e6c997",
   "metadata": {},
   "outputs": [],
   "source": [
    "slut16=[]\n",
    "slutasl16=[]\n",
    "slutasm16=[]\n",
    "muxes16=[]\n",
    "LUT2_16=[]\n",
    "LUT3_16=[]\n",
    "LUT4_16=[]\n",
    "LUT5_16=[]\n",
    "LUT6_16=[]\n",
    "LUT7_16=[]\n",
    "with open(\"Impl/top_CLA16/utilization.txt\") as f:\n",
    "    lines=f.read()\n",
    "sp = lines.split(\"\\n\") \n",
    "for l in sp:\n",
    "    if \"Slice LUTs\" in l:\n",
    "        slut16.append(float(l.split()[-4]))\n",
    "    if \"| LUT as Logic \" in l:\n",
    "        slutasl16.append(float(l.split()[-4]))\n",
    "    if \"| LUT as Memory\" in l:\n",
    "        slutasm16.append(float(l.split()[-4]))\n",
    "    if \"F7 Muxes\" in l:\n",
    "        muxes16.append(float(l.split()[-6]))\n",
    "    if \"LUT2\" in l:\n",
    "        LUT2_16.append(float(l.split()[-4]))    \n",
    "    if \"LUT3\" in l:\n",
    "        LUT3_16.append(float(l.split()[-4]))\n",
    "    if \"LUT4\" in l:\n",
    "        LUT4_16.append(float(l.split()[-4]))\n",
    "    if \"LUT5\" in l:\n",
    "        LUT5_16.append(float(l.split()[-4]))    \n",
    "    if \"LUT6\" in l:\n",
    "        LUT6_16.append(float(l.split()[-4]))\n",
    "    if \"LUT7\" in l:\n",
    "        LUT7_16.append(float(l.split()[-4]))"
   ]
  },
  {
   "cell_type": "code",
   "execution_count": 356,
   "id": "6c3a8850-8033-415a-9e9d-f932663a4824",
   "metadata": {},
   "outputs": [
    {
     "data": {
      "text/plain": [
       "[]"
      ]
     },
     "execution_count": 356,
     "metadata": {},
     "output_type": "execute_result"
    }
   ],
   "source": [
    "LUT1_16"
   ]
  },
  {
   "cell_type": "code",
   "execution_count": null,
   "id": "7f45ff5b-4054-41f0-b96c-74db114a0eec",
   "metadata": {},
   "outputs": [],
   "source": []
  },
  {
   "cell_type": "code",
   "execution_count": null,
   "id": "3dc35ffa-48d6-43fc-bfeb-76f40da70375",
   "metadata": {},
   "outputs": [],
   "source": []
  },
  {
   "cell_type": "code",
   "execution_count": null,
   "id": "ef33928b-1980-4ac9-89ac-28359c8f8747",
   "metadata": {},
   "outputs": [],
   "source": []
  },
  {
   "cell_type": "code",
   "execution_count": null,
   "id": "c782424d-b62d-4abd-ad27-7b59581c15e0",
   "metadata": {},
   "outputs": [],
   "source": []
  },
  {
   "cell_type": "code",
   "execution_count": null,
   "id": "7b202275-faa3-45b4-95b7-e680457515e4",
   "metadata": {},
   "outputs": [],
   "source": []
  },
  {
   "cell_type": "code",
   "execution_count": null,
   "id": "68a73a38-e22a-4ee8-97c7-b8b0c5b755af",
   "metadata": {},
   "outputs": [],
   "source": []
  },
  {
   "cell_type": "code",
   "execution_count": 276,
   "id": "7e2a14be-5fa6-4d31-8506-48b3e53a52fb",
   "metadata": {},
   "outputs": [],
   "source": [
    "\n",
    "with open(\"Impl/top_CLA16/power.txt\") as f:\n",
    "    lines=f.read()   \n",
    "sp = lines.split(\"\\n\")\n",
    "for l in sp:\n",
    "     if \"Signals\" in l:\n",
    "        signal16=float(l.split()[3])\n",
    "        \n",
    "      \n"
   ]
  },
  {
   "cell_type": "code",
   "execution_count": 277,
   "id": "9ca482b2-26ab-4fd2-a5b6-f158a88277bd",
   "metadata": {},
   "outputs": [
    {
     "data": {
      "text/plain": [
       "0.496"
      ]
     },
     "execution_count": 277,
     "metadata": {},
     "output_type": "execute_result"
    }
   ],
   "source": [
    "signal16"
   ]
  },
  {
   "cell_type": "code",
   "execution_count": null,
   "id": "2d79cad6-5f1a-429d-9be6-f94efed31fde",
   "metadata": {},
   "outputs": [],
   "source": []
  },
  {
   "cell_type": "code",
   "execution_count": 264,
   "id": "81e65a2a-b480-4339-bd22-6835f10a76df",
   "metadata": {},
   "outputs": [
    {
     "data": {
      "text/plain": [
       "[0.192]"
      ]
     },
     "execution_count": 264,
     "metadata": {},
     "output_type": "execute_result"
    }
   ],
   "source": [
    "slicelogic16"
   ]
  },
  {
   "cell_type": "code",
   "execution_count": 260,
   "id": "0a47551e-f146-4b1d-84de-490fe39162b7",
   "metadata": {},
   "outputs": [
    {
     "data": {
      "text/plain": [
       "0.192"
      ]
     },
     "execution_count": 260,
     "metadata": {},
     "output_type": "execute_result"
    }
   ],
   "source": [
    "float(slicelogic16.split()[4])"
   ]
  },
  {
   "cell_type": "code",
   "execution_count": null,
   "id": "e5cd0afc-2369-4bf2-add3-fa2f484f6793",
   "metadata": {},
   "outputs": [],
   "source": []
  }
 ],
 "metadata": {
  "kernelspec": {
   "display_name": "Python 3",
   "language": "python",
   "name": "python3"
  },
  "language_info": {
   "codemirror_mode": {
    "name": "ipython",
    "version": 3
   },
   "file_extension": ".py",
   "mimetype": "text/x-python",
   "name": "python",
   "nbconvert_exporter": "python",
   "pygments_lexer": "ipython3",
   "version": "3.6.8"
  }
 },
 "nbformat": 4,
 "nbformat_minor": 5
}
